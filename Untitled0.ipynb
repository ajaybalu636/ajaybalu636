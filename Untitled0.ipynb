{
  "nbformat": 4,
  "nbformat_minor": 0,
  "metadata": {
    "colab": {
      "provenance": []
    },
    "kernelspec": {
      "name": "python3",
      "display_name": "Python 3"
    },
    "language_info": {
      "name": "python"
    }
  },
  "cells": [
    {
      "cell_type": "code",
      "execution_count": null,
      "metadata": {
        "colab": {
          "base_uri": "https://localhost:8080/"
        },
        "id": "ZJKSIrkXWgMt",
        "outputId": "d0aa47b9-076a-4c28-df51-b9c284695811"
      },
      "outputs": [
        {
          "output_type": "execute_result",
          "data": {
            "text/plain": [
              "[203, 'Hyderabad', 45, True, 'Mumbai']"
            ]
          },
          "metadata": {},
          "execution_count": 1
        }
      ],
      "source": [
        "m=[203, 'Hyderabad', 45,True,'Mumbai']\n",
        "m"
      ]
    },
    {
      "cell_type": "code",
      "source": [
        "m[-3]"
      ],
      "metadata": {
        "colab": {
          "base_uri": "https://localhost:8080/"
        },
        "id": "H8hFtZf9Z9q7",
        "outputId": "11450906-1d89-48ba-a709-13505657e505"
      },
      "execution_count": null,
      "outputs": [
        {
          "output_type": "execute_result",
          "data": {
            "text/plain": [
              "45"
            ]
          },
          "metadata": {},
          "execution_count": 2
        }
      ]
    },
    {
      "cell_type": "code",
      "source": [
        "m[4]"
      ],
      "metadata": {
        "colab": {
          "base_uri": "https://localhost:8080/",
          "height": 36
        },
        "id": "p6XTPSMGaGTr",
        "outputId": "92386a83-1c5d-42ff-ef0a-a63065760b0a"
      },
      "execution_count": null,
      "outputs": [
        {
          "output_type": "execute_result",
          "data": {
            "text/plain": [
              "'Mumbai'"
            ],
            "application/vnd.google.colaboratory.intrinsic+json": {
              "type": "string"
            }
          },
          "metadata": {},
          "execution_count": 3
        }
      ]
    },
    {
      "cell_type": "code",
      "source": [
        "m[0:3]"
      ],
      "metadata": {
        "colab": {
          "base_uri": "https://localhost:8080/"
        },
        "id": "p8RVRAljaLXW",
        "outputId": "80b152a9-73ab-443a-c6c1-936eb98255a3"
      },
      "execution_count": null,
      "outputs": [
        {
          "output_type": "execute_result",
          "data": {
            "text/plain": [
              "[203, 'Hyderabad', 45]"
            ]
          },
          "metadata": {},
          "execution_count": 4
        }
      ]
    },
    {
      "cell_type": "code",
      "source": [
        "m.insert(1,'ajay')"
      ],
      "metadata": {
        "id": "nZp5GERwaTue"
      },
      "execution_count": null,
      "outputs": []
    },
    {
      "cell_type": "code",
      "source": [
        "m"
      ],
      "metadata": {
        "colab": {
          "base_uri": "https://localhost:8080/"
        },
        "id": "nZ6NLgYKafJj",
        "outputId": "09632e27-b9ba-494f-acbd-3ff9d978978e"
      },
      "execution_count": null,
      "outputs": [
        {
          "output_type": "execute_result",
          "data": {
            "text/plain": [
              "[203, 'ajay', 'Hyderabad', 45, True, 'Mumbai']"
            ]
          },
          "metadata": {},
          "execution_count": 6
        }
      ]
    },
    {
      "cell_type": "code",
      "source": [
        "m.pop(3)"
      ],
      "metadata": {
        "colab": {
          "base_uri": "https://localhost:8080/"
        },
        "id": "B6Ffb0jVagTs",
        "outputId": "f45e4252-7848-443e-d1b9-fe9985723e1c"
      },
      "execution_count": null,
      "outputs": [
        {
          "output_type": "execute_result",
          "data": {
            "text/plain": [
              "45"
            ]
          },
          "metadata": {},
          "execution_count": 7
        }
      ]
    },
    {
      "cell_type": "code",
      "source": [
        "m.pop()"
      ],
      "metadata": {
        "colab": {
          "base_uri": "https://localhost:8080/",
          "height": 36
        },
        "id": "zcCDTILoaybf",
        "outputId": "fab59894-9327-41d4-dbb6-ff9516460cea"
      },
      "execution_count": null,
      "outputs": [
        {
          "output_type": "execute_result",
          "data": {
            "text/plain": [
              "'Mumbai'"
            ],
            "application/vnd.google.colaboratory.intrinsic+json": {
              "type": "string"
            }
          },
          "metadata": {},
          "execution_count": 8
        }
      ]
    },
    {
      "cell_type": "code",
      "source": [
        "m"
      ],
      "metadata": {
        "colab": {
          "base_uri": "https://localhost:8080/"
        },
        "id": "_2xgukhYa5uO",
        "outputId": "efe411ee-fe71-43bc-8e9c-529467316b88"
      },
      "execution_count": null,
      "outputs": [
        {
          "output_type": "execute_result",
          "data": {
            "text/plain": [
              "[203, 'ajay', 'Hyderabad', True]"
            ]
          },
          "metadata": {},
          "execution_count": 9
        }
      ]
    },
    {
      "cell_type": "code",
      "source": [
        "m.append('Biryani')"
      ],
      "metadata": {
        "id": "SQFwg3tra7c_"
      },
      "execution_count": null,
      "outputs": []
    },
    {
      "cell_type": "code",
      "source": [
        "m"
      ],
      "metadata": {
        "colab": {
          "base_uri": "https://localhost:8080/"
        },
        "id": "gKxCjOMCbI_o",
        "outputId": "42f55ba2-46f1-48ea-c9c7-9dc53969c579"
      },
      "execution_count": null,
      "outputs": [
        {
          "output_type": "execute_result",
          "data": {
            "text/plain": [
              "[203, 'ajay', 'Hyderabad', True, 'Biryani']"
            ]
          },
          "metadata": {},
          "execution_count": 12
        }
      ]
    },
    {
      "cell_type": "code",
      "source": [
        "m[0:4:2]"
      ],
      "metadata": {
        "colab": {
          "base_uri": "https://localhost:8080/"
        },
        "id": "h4tqnVx8bP7S",
        "outputId": "4a84edb9-f800-4c42-9897-37cac6569839"
      },
      "execution_count": null,
      "outputs": [
        {
          "output_type": "execute_result",
          "data": {
            "text/plain": [
              "[203, 'Hyderabad']"
            ]
          },
          "metadata": {},
          "execution_count": 13
        }
      ]
    },
    {
      "cell_type": "code",
      "source": [
        "m[0:5:3]"
      ],
      "metadata": {
        "colab": {
          "base_uri": "https://localhost:8080/"
        },
        "id": "r9h6XuQZcbeP",
        "outputId": "5957c71e-793f-4e61-c538-9439e5ae6d8e"
      },
      "execution_count": null,
      "outputs": [
        {
          "output_type": "execute_result",
          "data": {
            "text/plain": [
              "[203, True]"
            ]
          },
          "metadata": {},
          "execution_count": 14
        }
      ]
    },
    {
      "cell_type": "code",
      "source": [
        "m[0::3]"
      ],
      "metadata": {
        "colab": {
          "base_uri": "https://localhost:8080/"
        },
        "id": "RfBk_1B7cn_P",
        "outputId": "39a2ec66-4228-4ab4-b0df-5cd73478b97a"
      },
      "execution_count": null,
      "outputs": [
        {
          "output_type": "execute_result",
          "data": {
            "text/plain": [
              "[203, True]"
            ]
          },
          "metadata": {},
          "execution_count": 15
        }
      ]
    },
    {
      "cell_type": "code",
      "source": [
        "m[2:]"
      ],
      "metadata": {
        "colab": {
          "base_uri": "https://localhost:8080/"
        },
        "id": "FQACjeHMcs5C",
        "outputId": "fb676685-31b3-4a6a-8423-f48049a7c45f"
      },
      "execution_count": null,
      "outputs": [
        {
          "output_type": "execute_result",
          "data": {
            "text/plain": [
              "['Hyderabad', True, 'Biryani']"
            ]
          },
          "metadata": {},
          "execution_count": 16
        }
      ]
    },
    {
      "cell_type": "code",
      "source": [
        "print(f\"my list: {m}\")"
      ],
      "metadata": {
        "colab": {
          "base_uri": "https://localhost:8080/"
        },
        "id": "P-S-2HPQdtWC",
        "outputId": "3a66cbb1-722f-447c-ee91-217e01816710"
      },
      "execution_count": null,
      "outputs": [
        {
          "output_type": "stream",
          "name": "stdout",
          "text": [
            "my list: [203, 'ajay', 'Hyderabad', True, 'Biryani']\n"
          ]
        }
      ]
    },
    {
      "cell_type": "code",
      "source": [
        "m.insert(1,'ramarao')"
      ],
      "metadata": {
        "id": "8wpGCpGhhy0U"
      },
      "execution_count": null,
      "outputs": []
    },
    {
      "cell_type": "code",
      "source": [
        "m"
      ],
      "metadata": {
        "colab": {
          "base_uri": "https://localhost:8080/"
        },
        "id": "78sh-g9Qh5ff",
        "outputId": "98117f9e-84c4-48dc-aada-f38085f4dc67"
      },
      "execution_count": null,
      "outputs": [
        {
          "output_type": "execute_result",
          "data": {
            "text/plain": [
              "[203, 'ramarao', 'ajay', 'Hyderabad', True, 'Biryani']"
            ]
          },
          "metadata": {},
          "execution_count": 20
        }
      ]
    },
    {
      "cell_type": "code",
      "source": [
        "m.append('chENNAI')"
      ],
      "metadata": {
        "id": "bWWOzj7OiE7c"
      },
      "execution_count": null,
      "outputs": []
    },
    {
      "cell_type": "code",
      "source": [
        "m.append(\"delhi\")"
      ],
      "metadata": {
        "id": "glu5KLnOiJhP"
      },
      "execution_count": null,
      "outputs": []
    },
    {
      "cell_type": "code",
      "source": [
        "m"
      ],
      "metadata": {
        "colab": {
          "base_uri": "https://localhost:8080/"
        },
        "id": "_tOv65_piMOm",
        "outputId": "f41d30a0-0dbf-4366-b386-d4525e2354a6"
      },
      "execution_count": null,
      "outputs": [
        {
          "output_type": "execute_result",
          "data": {
            "text/plain": [
              "[203, 'ramarao', 'ajay', 'Hyderabad', True, 'Biryani', 'chENNAI', 'delhi']"
            ]
          },
          "metadata": {},
          "execution_count": 23
        }
      ]
    },
    {
      "cell_type": "code",
      "source": [
        "m.append(\"hyderbad\")"
      ],
      "metadata": {
        "id": "gl7WhwAKiND6"
      },
      "execution_count": null,
      "outputs": []
    },
    {
      "cell_type": "code",
      "source": [
        "m"
      ],
      "metadata": {
        "colab": {
          "base_uri": "https://localhost:8080/"
        },
        "id": "XQ23q3uAiRq-",
        "outputId": "fabc8daa-494c-485d-bac6-e9e94c95a3ec"
      },
      "execution_count": null,
      "outputs": [
        {
          "output_type": "execute_result",
          "data": {
            "text/plain": [
              "[203,\n",
              " 'ramarao',\n",
              " 'ajay',\n",
              " 'Hyderabad',\n",
              " True,\n",
              " 'Biryani',\n",
              " 'chENNAI',\n",
              " 'delhi',\n",
              " 'hyderbad']"
            ]
          },
          "metadata": {},
          "execution_count": 25
        }
      ]
    },
    {
      "cell_type": "code",
      "source": [
        "print(m)"
      ],
      "metadata": {
        "colab": {
          "base_uri": "https://localhost:8080/"
        },
        "id": "LenvbXnliSbE",
        "outputId": "cebd284a-41b1-4bbd-82d8-ae18a7af09cc"
      },
      "execution_count": null,
      "outputs": [
        {
          "output_type": "stream",
          "name": "stdout",
          "text": [
            "[203, 'ramarao', 'ajay', 'Hyderabad', True, 'Biryani', 'chENNAI', 'delhi', 'hyderbad']\n"
          ]
        }
      ]
    },
    {
      "cell_type": "code",
      "source": [
        "m.remove('ramarao')"
      ],
      "metadata": {
        "id": "QWEqu_CJiWIj"
      },
      "execution_count": null,
      "outputs": []
    },
    {
      "cell_type": "code",
      "source": [
        "m"
      ],
      "metadata": {
        "colab": {
          "base_uri": "https://localhost:8080/"
        },
        "id": "IvUAUwC4ijoo",
        "outputId": "fd3dc41d-78ac-4b48-f384-caca3bad29dc"
      },
      "execution_count": null,
      "outputs": [
        {
          "output_type": "execute_result",
          "data": {
            "text/plain": [
              "[203, 'ajay', 'Hyderabad', True, 'Biryani', 'chENNAI', 'delhi', 'hyderbad']"
            ]
          },
          "metadata": {},
          "execution_count": 28
        }
      ]
    },
    {
      "cell_type": "code",
      "source": [
        "m.count('ajay')"
      ],
      "metadata": {
        "colab": {
          "base_uri": "https://localhost:8080/"
        },
        "id": "rd3FcPt7ilGZ",
        "outputId": "3cdad377-d661-4c9a-a69a-22bc18b21bb4"
      },
      "execution_count": null,
      "outputs": [
        {
          "output_type": "execute_result",
          "data": {
            "text/plain": [
              "1"
            ]
          },
          "metadata": {},
          "execution_count": 30
        }
      ]
    },
    {
      "cell_type": "code",
      "source": [
        "a=[19,86,65,98,63]"
      ],
      "metadata": {
        "id": "l-Chx-B6i8rE"
      },
      "execution_count": null,
      "outputs": []
    },
    {
      "cell_type": "code",
      "source": [
        "b=[10,45,76,55,100]"
      ],
      "metadata": {
        "id": "4_oQAhOwkmky"
      },
      "execution_count": null,
      "outputs": []
    },
    {
      "cell_type": "code",
      "source": [
        "a.append(b)"
      ],
      "metadata": {
        "id": "uJ3J9Rx8kpcf"
      },
      "execution_count": null,
      "outputs": []
    },
    {
      "cell_type": "code",
      "source": [
        "a"
      ],
      "metadata": {
        "colab": {
          "base_uri": "https://localhost:8080/"
        },
        "id": "rUF_EMMLkrTX",
        "outputId": "e3fc9e3a-2eb2-4b7b-bc20-84648c32bf2a"
      },
      "execution_count": null,
      "outputs": [
        {
          "output_type": "execute_result",
          "data": {
            "text/plain": [
              "[19, 86, 65, 98, 63, [10, 45, 76, 55, 100]]"
            ]
          },
          "metadata": {},
          "execution_count": 34
        }
      ]
    },
    {
      "cell_type": "code",
      "source": [
        "c=a+b\n"
      ],
      "metadata": {
        "id": "BfAOkRn4ks8u"
      },
      "execution_count": null,
      "outputs": []
    },
    {
      "cell_type": "code",
      "source": [
        "c"
      ],
      "metadata": {
        "colab": {
          "base_uri": "https://localhost:8080/"
        },
        "id": "3D_RcY06kykY",
        "outputId": "8b1bfdd0-be05-4574-8656-f54fce65a57b"
      },
      "execution_count": null,
      "outputs": [
        {
          "output_type": "execute_result",
          "data": {
            "text/plain": [
              "[19, 86, 65, 98, 63, [10, 45, 76, 55, 100], 10, 45, 76, 55, 100]"
            ]
          },
          "metadata": {},
          "execution_count": 36
        }
      ]
    },
    {
      "cell_type": "code",
      "source": [
        "a.remove(19)"
      ],
      "metadata": {
        "id": "6FnKFFOdkzc7"
      },
      "execution_count": null,
      "outputs": []
    },
    {
      "cell_type": "code",
      "source": [
        "a"
      ],
      "metadata": {
        "colab": {
          "base_uri": "https://localhost:8080/"
        },
        "id": "rKyzkONrk9WD",
        "outputId": "33fc304b-b763-4277-e124-aae0fdc0b5b0"
      },
      "execution_count": null,
      "outputs": [
        {
          "output_type": "execute_result",
          "data": {
            "text/plain": [
              "[86, 65, 98, 63, [10, 45, 76, 55, 100]]"
            ]
          },
          "metadata": {},
          "execution_count": 38
        }
      ]
    },
    {
      "cell_type": "code",
      "source": [
        "a.insert(1,10)"
      ],
      "metadata": {
        "id": "jxrGrQaYk-Kf"
      },
      "execution_count": null,
      "outputs": []
    },
    {
      "cell_type": "code",
      "source": [
        "a"
      ],
      "metadata": {
        "colab": {
          "base_uri": "https://localhost:8080/"
        },
        "id": "aPp8xYotlDG2",
        "outputId": "e1e49c44-fa49-4871-b797-c937239be024"
      },
      "execution_count": null,
      "outputs": [
        {
          "output_type": "execute_result",
          "data": {
            "text/plain": [
              "[86, 10, 65, 98, 63, [10, 45, 76, 55, 100]]"
            ]
          },
          "metadata": {},
          "execution_count": 45
        }
      ]
    },
    {
      "cell_type": "code",
      "source": [],
      "metadata": {
        "id": "EQQ3P-zBlcbE"
      },
      "execution_count": null,
      "outputs": []
    }
  ]
}
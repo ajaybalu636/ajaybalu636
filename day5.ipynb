{
  "nbformat": 4,
  "nbformat_minor": 0,
  "metadata": {
    "colab": {
      "provenance": []
    },
    "kernelspec": {
      "name": "python3",
      "display_name": "Python 3"
    },
    "language_info": {
      "name": "python"
    }
  },
  "cells": [
    {
      "cell_type": "code",
      "execution_count": 2,
      "metadata": {
        "colab": {
          "base_uri": "https://localhost:8080/"
        },
        "id": "6_VZQtiWXnSM",
        "outputId": "9f7593d8-c4a2-4b71-ed00-a91984f03986"
      },
      "outputs": [
        {
          "output_type": "execute_result",
          "data": {
            "text/plain": [
              "{'Name': 'ajaykumar', 'id': 419}"
            ]
          },
          "metadata": {},
          "execution_count": 2
        }
      ],
      "source": [
        "d={'Name': 'ajaykumar', 'id': 419}\n",
        "d"
      ]
    },
    {
      "cell_type": "code",
      "source": [
        "d['id']"
      ],
      "metadata": {
        "colab": {
          "base_uri": "https://localhost:8080/"
        },
        "id": "DNp-hXbpX0R_",
        "outputId": "cf2b8ea8-fce6-452a-a74d-23999f49eb36"
      },
      "execution_count": 3,
      "outputs": [
        {
          "output_type": "execute_result",
          "data": {
            "text/plain": [
              "419"
            ]
          },
          "metadata": {},
          "execution_count": 3
        }
      ]
    },
    {
      "cell_type": "code",
      "source": [
        "d['Name']"
      ],
      "metadata": {
        "colab": {
          "base_uri": "https://localhost:8080/",
          "height": 36
        },
        "id": "JEVwvlKuYEpI",
        "outputId": "69ebd0d1-380d-4538-c2f8-d5662c7bb98d"
      },
      "execution_count": 6,
      "outputs": [
        {
          "output_type": "execute_result",
          "data": {
            "text/plain": [
              "'ajaykumar'"
            ],
            "application/vnd.google.colaboratory.intrinsic+json": {
              "type": "string"
            }
          },
          "metadata": {},
          "execution_count": 6
        }
      ]
    },
    {
      "cell_type": "code",
      "source": [
        "d['Name']='Ajay'"
      ],
      "metadata": {
        "id": "jeXdE7DqYGjV"
      },
      "execution_count": 7,
      "outputs": []
    },
    {
      "cell_type": "code",
      "source": [
        "d"
      ],
      "metadata": {
        "colab": {
          "base_uri": "https://localhost:8080/"
        },
        "id": "6VpV-ldhYa5m",
        "outputId": "639ab15c-2493-4dd3-abff-f98808520565"
      },
      "execution_count": 8,
      "outputs": [
        {
          "output_type": "execute_result",
          "data": {
            "text/plain": [
              "{'Name': 'Ajay', 'id': 419}"
            ]
          },
          "metadata": {},
          "execution_count": 8
        }
      ]
    },
    {
      "cell_type": "code",
      "source": [
        "d['college']='MRU'"
      ],
      "metadata": {
        "id": "ikKCwHBCYcHS"
      },
      "execution_count": 9,
      "outputs": []
    },
    {
      "cell_type": "code",
      "source": [
        "d"
      ],
      "metadata": {
        "colab": {
          "base_uri": "https://localhost:8080/"
        },
        "id": "oc9P-O5dYypS",
        "outputId": "a75e034b-0268-435e-e12f-5a040682f5e2"
      },
      "execution_count": 10,
      "outputs": [
        {
          "output_type": "execute_result",
          "data": {
            "text/plain": [
              "{'Name': 'Ajay', 'id': 419, 'college': 'MRU'}"
            ]
          },
          "metadata": {},
          "execution_count": 10
        }
      ]
    },
    {
      "cell_type": "code",
      "source": [
        "d.get('Name')"
      ],
      "metadata": {
        "colab": {
          "base_uri": "https://localhost:8080/",
          "height": 36
        },
        "id": "zYjkWXTTYzL1",
        "outputId": "44df6836-0477-4b9b-f87a-46a0f6b84374"
      },
      "execution_count": 12,
      "outputs": [
        {
          "output_type": "execute_result",
          "data": {
            "text/plain": [
              "'Ajay'"
            ],
            "application/vnd.google.colaboratory.intrinsic+json": {
              "type": "string"
            }
          },
          "metadata": {},
          "execution_count": 12
        }
      ]
    },
    {
      "cell_type": "code",
      "source": [
        "d.keys()"
      ],
      "metadata": {
        "colab": {
          "base_uri": "https://localhost:8080/"
        },
        "id": "EDmcYEnxZgtA",
        "outputId": "58936835-9dc1-4578-c03d-051e23a7d771"
      },
      "execution_count": 13,
      "outputs": [
        {
          "output_type": "execute_result",
          "data": {
            "text/plain": [
              "dict_keys(['Name', 'id', 'college'])"
            ]
          },
          "metadata": {},
          "execution_count": 13
        }
      ]
    },
    {
      "cell_type": "code",
      "source": [
        "d.values()"
      ],
      "metadata": {
        "colab": {
          "base_uri": "https://localhost:8080/"
        },
        "id": "G7Me24gtb2qw",
        "outputId": "206a87cc-5376-45b9-ab3d-33b81d1be6b1"
      },
      "execution_count": 14,
      "outputs": [
        {
          "output_type": "execute_result",
          "data": {
            "text/plain": [
              "dict_values(['Ajay', 419, 'MRU'])"
            ]
          },
          "metadata": {},
          "execution_count": 14
        }
      ]
    },
    {
      "cell_type": "code",
      "source": [
        "d.items()"
      ],
      "metadata": {
        "colab": {
          "base_uri": "https://localhost:8080/"
        },
        "id": "WfO0PU0yb6CT",
        "outputId": "fbcff8db-2ca6-4096-c65a-88dea18a455e"
      },
      "execution_count": 15,
      "outputs": [
        {
          "output_type": "execute_result",
          "data": {
            "text/plain": [
              "dict_items([('Name', 'Ajay'), ('id', 419), ('college', 'MRU')])"
            ]
          },
          "metadata": {},
          "execution_count": 15
        }
      ]
    },
    {
      "cell_type": "code",
      "source": [
        "d"
      ],
      "metadata": {
        "colab": {
          "base_uri": "https://localhost:8080/"
        },
        "id": "8H0c52VDcvY_",
        "outputId": "1a874b36-c953-4ff1-c3ff-c3a2d98c7916"
      },
      "execution_count": 16,
      "outputs": [
        {
          "output_type": "execute_result",
          "data": {
            "text/plain": [
              "{'Name': 'Ajay', 'id': 419, 'college': 'MRU'}"
            ]
          },
          "metadata": {},
          "execution_count": 16
        }
      ]
    },
    {
      "cell_type": "code",
      "source": [
        "d['id']=[10,45,9,8,7]"
      ],
      "metadata": {
        "id": "oiptfEAgcwTF"
      },
      "execution_count": 17,
      "outputs": []
    },
    {
      "cell_type": "code",
      "source": [
        "d"
      ],
      "metadata": {
        "colab": {
          "base_uri": "https://localhost:8080/"
        },
        "id": "IKZSlnf8c8Vz",
        "outputId": "a5c7d357-8ffe-4fd0-e959-9b3814251b35"
      },
      "execution_count": 18,
      "outputs": [
        {
          "output_type": "execute_result",
          "data": {
            "text/plain": [
              "{'Name': 'Ajay', 'id': [10, 45, 9, 8, 7], 'college': 'MRU'}"
            ]
          },
          "metadata": {},
          "execution_count": 18
        }
      ]
    },
    {
      "cell_type": "code",
      "source": [
        "d.items()"
      ],
      "metadata": {
        "colab": {
          "base_uri": "https://localhost:8080/"
        },
        "id": "2ze1wdGpc9QI",
        "outputId": "ce136312-a876-46d6-e74c-e8d44d45871e"
      },
      "execution_count": 19,
      "outputs": [
        {
          "output_type": "execute_result",
          "data": {
            "text/plain": [
              "dict_items([('Name', 'Ajay'), ('id', [10, 45, 9, 8, 7]), ('college', 'MRU')])"
            ]
          },
          "metadata": {},
          "execution_count": 19
        }
      ]
    },
    {
      "cell_type": "code",
      "source": [
        "type(d)"
      ],
      "metadata": {
        "colab": {
          "base_uri": "https://localhost:8080/"
        },
        "id": "AqCaeHUodB_3",
        "outputId": "b34c7b8d-efbf-4dec-b6dd-1d92af2a765d"
      },
      "execution_count": 20,
      "outputs": [
        {
          "output_type": "execute_result",
          "data": {
            "text/plain": [
              "dict"
            ]
          },
          "metadata": {},
          "execution_count": 20
        }
      ]
    },
    {
      "cell_type": "code",
      "source": [
        "type(d['id'])"
      ],
      "metadata": {
        "colab": {
          "base_uri": "https://localhost:8080/"
        },
        "id": "ORt31qyFdH7s",
        "outputId": "085ba82c-5df5-4f09-8e02-a1983abd4aba"
      },
      "execution_count": 25,
      "outputs": [
        {
          "output_type": "execute_result",
          "data": {
            "text/plain": [
              "list"
            ]
          },
          "metadata": {},
          "execution_count": 25
        }
      ]
    },
    {
      "cell_type": "code",
      "source": [
        "type(d['Name'])"
      ],
      "metadata": {
        "colab": {
          "base_uri": "https://localhost:8080/"
        },
        "id": "XYYTIoWCdNl0",
        "outputId": "561d4006-68d2-4efa-ea9e-bf60742738cd"
      },
      "execution_count": 24,
      "outputs": [
        {
          "output_type": "execute_result",
          "data": {
            "text/plain": [
              "str"
            ]
          },
          "metadata": {},
          "execution_count": 24
        }
      ]
    },
    {
      "cell_type": "code",
      "source": [
        "d[101]={50:[6,7,8,9],'apple':(20,19,98,[87,59,75])}"
      ],
      "metadata": {
        "id": "vidkCM-idXCV"
      },
      "execution_count": 28,
      "outputs": []
    },
    {
      "cell_type": "code",
      "source": [
        "d"
      ],
      "metadata": {
        "colab": {
          "base_uri": "https://localhost:8080/"
        },
        "id": "s7mqPe02fu1T",
        "outputId": "3872ac91-ab5f-454a-d950-9b2b09b43535"
      },
      "execution_count": 29,
      "outputs": [
        {
          "output_type": "execute_result",
          "data": {
            "text/plain": [
              "{'Name': 'Ajay',\n",
              " 'id': [10, 45, 9, 8, 7],\n",
              " 'college': 'MRU',\n",
              " 101: {50: [6, 7, 8, 9], 'apple': (20, 19, 98, [87, 59, 75])}}"
            ]
          },
          "metadata": {},
          "execution_count": 29
        }
      ]
    },
    {
      "cell_type": "code",
      "source": [
        "d[105]={'a':{98,87,65},'b':(1000,6800,7688,9877),'c':['k',{'L':[11,22],'M':(44,67)},'N']}"
      ],
      "metadata": {
        "id": "lC6ZzPOIf8SH"
      },
      "execution_count": 30,
      "outputs": []
    },
    {
      "cell_type": "code",
      "source": [
        "d"
      ],
      "metadata": {
        "colab": {
          "base_uri": "https://localhost:8080/"
        },
        "id": "RxVOymOLgfn7",
        "outputId": "549b86c5-1b3a-4e8b-c4b2-c60a6d35bc09"
      },
      "execution_count": 33,
      "outputs": [
        {
          "output_type": "execute_result",
          "data": {
            "text/plain": [
              "{'Name': 'Ajay',\n",
              " 'id': [10, 45, 9, 8, 7],\n",
              " 'college': 'MRU',\n",
              " 101: {50: [6, 7, 8, 9], 'apple': (20, 19, 98, [87, 59, 75])},\n",
              " 105: {'a': {65, 87, 98},\n",
              "  'b': (1000, 6800, 7688, 9877),\n",
              "  'c': ['k', {'L': [11, 22], 'M': (44, 67)}, 'N']}}"
            ]
          },
          "metadata": {},
          "execution_count": 33
        }
      ]
    },
    {
      "cell_type": "code",
      "source": [
        "# prompt: start coding\n",
        "\n",
        "d = {'Name': 'ajaykumar', 'id': 419}\n",
        "print(d)\n",
        "print(d['id'])\n",
        "print(d['Name'])\n",
        "d['Name'] = 'Ajay'\n",
        "print(d)\n",
        "d['college'] = 'MRU'\n",
        "print(d)\n",
        "print(d.get('Name'))\n",
        "print(d.keys())\n",
        "print(d.values())\n",
        "print(d.items())\n",
        "print(d)\n",
        "d['id'] = [10, 45, 9, 8, 7]\n",
        "print(d)\n",
        "print(d.items())\n",
        "print(type(d))\n",
        "print(type(d['id']))\n",
        "print(type(d['Name']))\n",
        "d[101] = {50: [6, 7, 8, 9], 'apple': (20, 19, 98, [87, 59, 75])}\n",
        "print(d)\n",
        "d[105] = {'a': {98, 87, 65}, 'b': (1000, 6800, 7688, 9877), 'c': ['k', {'L': [11, 22], 'M': (44, 67)}, 'N']}\n",
        "d"
      ],
      "metadata": {
        "colab": {
          "base_uri": "https://localhost:8080/"
        },
        "id": "m-29zwLXggvy",
        "outputId": "c6a394c3-0cfe-4c67-b2aa-64bdbc3fab86"
      },
      "execution_count": 34,
      "outputs": [
        {
          "output_type": "stream",
          "name": "stdout",
          "text": [
            "{'Name': 'ajaykumar', 'id': 419}\n",
            "419\n",
            "ajaykumar\n",
            "{'Name': 'Ajay', 'id': 419}\n",
            "{'Name': 'Ajay', 'id': 419, 'college': 'MRU'}\n",
            "Ajay\n",
            "dict_keys(['Name', 'id', 'college'])\n",
            "dict_values(['Ajay', 419, 'MRU'])\n",
            "dict_items([('Name', 'Ajay'), ('id', 419), ('college', 'MRU')])\n",
            "{'Name': 'Ajay', 'id': 419, 'college': 'MRU'}\n",
            "{'Name': 'Ajay', 'id': [10, 45, 9, 8, 7], 'college': 'MRU'}\n",
            "dict_items([('Name', 'Ajay'), ('id', [10, 45, 9, 8, 7]), ('college', 'MRU')])\n",
            "<class 'dict'>\n",
            "<class 'list'>\n",
            "<class 'str'>\n",
            "{'Name': 'Ajay', 'id': [10, 45, 9, 8, 7], 'college': 'MRU', 101: {50: [6, 7, 8, 9], 'apple': (20, 19, 98, [87, 59, 75])}}\n"
          ]
        },
        {
          "output_type": "execute_result",
          "data": {
            "text/plain": [
              "{'Name': 'Ajay',\n",
              " 'id': [10, 45, 9, 8, 7],\n",
              " 'college': 'MRU',\n",
              " 101: {50: [6, 7, 8, 9], 'apple': (20, 19, 98, [87, 59, 75])},\n",
              " 105: {'a': {65, 87, 98},\n",
              "  'b': (1000, 6800, 7688, 9877),\n",
              "  'c': ['k', {'L': [11, 22], 'M': (44, 67)}, 'N']}}"
            ]
          },
          "metadata": {},
          "execution_count": 34
        }
      ]
    },
    {
      "cell_type": "code",
      "source": [
        "d[101]['apple'][3][1]"
      ],
      "metadata": {
        "colab": {
          "base_uri": "https://localhost:8080/"
        },
        "id": "-A34SuWvhyDk",
        "outputId": "cb20fa16-2682-4ca5-8f00-65db7d6850a1"
      },
      "execution_count": 42,
      "outputs": [
        {
          "output_type": "execute_result",
          "data": {
            "text/plain": [
              "59"
            ]
          },
          "metadata": {},
          "execution_count": 42
        }
      ]
    },
    {
      "cell_type": "code",
      "source": [
        "d"
      ],
      "metadata": {
        "colab": {
          "base_uri": "https://localhost:8080/"
        },
        "id": "51KS3ui9h8Ek",
        "outputId": "b23d16be-7276-49d9-ebb5-0d1e413d3365"
      },
      "execution_count": 38,
      "outputs": [
        {
          "output_type": "execute_result",
          "data": {
            "text/plain": [
              "{'Name': 'Ajay',\n",
              " 'id': [10, 45, 9, 8, 7],\n",
              " 'college': 'MRU',\n",
              " 101: {50: [6, 7, 8, 9], 'apple': (20, 19, 98, [87, 59, 75])},\n",
              " 105: {'a': {65, 87, 98},\n",
              "  'b': (1000, 6800, 7688, 9877),\n",
              "  'c': ['k', {'L': [11, 22], 'M': (44, 67)}, 'N']},\n",
              " 'apple': 180,\n",
              " 180: 'apple'}"
            ]
          },
          "metadata": {},
          "execution_count": 38
        }
      ]
    },
    {
      "cell_type": "code",
      "source": [
        "# prompt: access 180 from above code\n",
        "\n",
        "d[180]='apple'\n",
        "d"
      ],
      "metadata": {
        "colab": {
          "base_uri": "https://localhost:8080/"
        },
        "id": "jvTJIM7Dh8wx",
        "outputId": "912dde94-a29d-414f-a14a-b474834c9261"
      },
      "execution_count": 39,
      "outputs": [
        {
          "output_type": "execute_result",
          "data": {
            "text/plain": [
              "{'Name': 'Ajay',\n",
              " 'id': [10, 45, 9, 8, 7],\n",
              " 'college': 'MRU',\n",
              " 101: {50: [6, 7, 8, 9], 'apple': (20, 19, 98, [87, 59, 75])},\n",
              " 105: {'a': {65, 87, 98},\n",
              "  'b': (1000, 6800, 7688, 9877),\n",
              "  'c': ['k', {'L': [11, 22], 'M': (44, 67)}, 'N']},\n",
              " 'apple': 180,\n",
              " 180: 'apple'}"
            ]
          },
          "metadata": {},
          "execution_count": 39
        }
      ]
    },
    {
      "cell_type": "code",
      "source": [],
      "metadata": {
        "id": "sYGWVAnyiUq3"
      },
      "execution_count": null,
      "outputs": []
    },
    {
      "cell_type": "code",
      "source": [],
      "metadata": {
        "id": "5tr9k_j3ijwY"
      },
      "execution_count": null,
      "outputs": []
    }
  ]
}
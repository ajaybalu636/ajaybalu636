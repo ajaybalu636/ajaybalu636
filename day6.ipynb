{
  "nbformat": 4,
  "nbformat_minor": 0,
  "metadata": {
    "colab": {
      "provenance": []
    },
    "kernelspec": {
      "name": "python3",
      "display_name": "Python 3"
    },
    "language_info": {
      "name": "python"
    }
  },
  "cells": [
    {
      "cell_type": "code",
      "source": [
        "\n",
        "\n",
        "def check_number(number):\n",
        "  if number > 0:\n",
        "    return \"Positive\"\n",
        "  elif number < 0:\n",
        "    return \"Negative\"\n",
        "  else:\n",
        "    return \"Zero\"\n",
        "\n",
        "num = float(input(\"Enter a number: \"))\n",
        "\n",
        "result = check_number(num)\n",
        "print(f\"The number is {result}\")\n"
      ],
      "metadata": {
        "colab": {
          "base_uri": "https://localhost:8080/"
        },
        "id": "P8Bi1l1Tg3FF",
        "outputId": "347cbab4-a32d-4358-e943-4dac76129879"
      },
      "execution_count": 23,
      "outputs": [
        {
          "output_type": "stream",
          "name": "stdout",
          "text": [
            "Enter a number: -2\n",
            "The number is Negative\n"
          ]
        }
      ]
    },
    {
      "cell_type": "code",
      "source": [
        "a=10"
      ],
      "metadata": {
        "id": "CLUnzh_4hyb0"
      },
      "execution_count": 25,
      "outputs": []
    },
    {
      "cell_type": "code",
      "source": [
        "b=5"
      ],
      "metadata": {
        "id": "3S1KvJAyj8UH"
      },
      "execution_count": 26,
      "outputs": []
    },
    {
      "cell_type": "code",
      "source": [
        "c=a+b"
      ],
      "metadata": {
        "id": "TJVAmv7tj9M3"
      },
      "execution_count": 27,
      "outputs": []
    },
    {
      "cell_type": "code",
      "source": [
        "print(c)"
      ],
      "metadata": {
        "colab": {
          "base_uri": "https://localhost:8080/"
        },
        "id": "swQaJVatj-vi",
        "outputId": "594db2fb-ff78-42b3-d5cf-3a954e77b9f3"
      },
      "execution_count": 29,
      "outputs": [
        {
          "output_type": "stream",
          "name": "stdout",
          "text": [
            "15\n"
          ]
        }
      ]
    },
    {
      "cell_type": "code",
      "source": [
        "t='MALLAREDDY UNIVERSITY'"
      ],
      "metadata": {
        "id": "AnJiRG2EkATT"
      },
      "execution_count": 30,
      "outputs": []
    },
    {
      "cell_type": "code",
      "source": [
        "type(t)"
      ],
      "metadata": {
        "colab": {
          "base_uri": "https://localhost:8080/"
        },
        "id": "eY-co9XxkWUo",
        "outputId": "7eeaba71-15be-43b1-b813-2cd0d1d09091"
      },
      "execution_count": 34,
      "outputs": [
        {
          "output_type": "execute_result",
          "data": {
            "text/plain": [
              "str"
            ]
          },
          "metadata": {},
          "execution_count": 34
        }
      ]
    },
    {
      "cell_type": "code",
      "source": [
        "t[-3]"
      ],
      "metadata": {
        "colab": {
          "base_uri": "https://localhost:8080/",
          "height": 36
        },
        "id": "6UDAvEfWkX2P",
        "outputId": "3e096e75-4ee4-43de-e6cb-69061e6543dd"
      },
      "execution_count": 35,
      "outputs": [
        {
          "output_type": "execute_result",
          "data": {
            "text/plain": [
              "'I'"
            ],
            "application/vnd.google.colaboratory.intrinsic+json": {
              "type": "string"
            }
          },
          "metadata": {},
          "execution_count": 35
        }
      ]
    },
    {
      "cell_type": "code",
      "source": [
        "t[5]"
      ],
      "metadata": {
        "colab": {
          "base_uri": "https://localhost:8080/",
          "height": 36
        },
        "id": "_6_cWQndkxbL",
        "outputId": "fd210e4e-f0f1-48d3-f0ca-2c6afd16cdd2"
      },
      "execution_count": 36,
      "outputs": [
        {
          "output_type": "execute_result",
          "data": {
            "text/plain": [
              "'R'"
            ],
            "application/vnd.google.colaboratory.intrinsic+json": {
              "type": "string"
            }
          },
          "metadata": {},
          "execution_count": 36
        }
      ]
    },
    {
      "cell_type": "code",
      "source": [
        "t.isalpha()"
      ],
      "metadata": {
        "colab": {
          "base_uri": "https://localhost:8080/"
        },
        "id": "3VOwjrIPkzDD",
        "outputId": "47db1205-1b6a-4b86-8bb5-3b5e0333c6f8"
      },
      "execution_count": 38,
      "outputs": [
        {
          "output_type": "execute_result",
          "data": {
            "text/plain": [
              "False"
            ]
          },
          "metadata": {},
          "execution_count": 38
        }
      ]
    },
    {
      "cell_type": "code",
      "source": [
        "a=1\n",
        "if a > 10:\n",
        "  print(\"a is greater than 10\")\n",
        "elif a < 10:\n",
        "  print(\"a is less than 10\")\n",
        "else:\n",
        "  print(\"a is equal to 10\")"
      ],
      "metadata": {
        "colab": {
          "base_uri": "https://localhost:8080/"
        },
        "id": "JHkffQFNlTkt",
        "outputId": "f12856a8-0d3d-48fb-aa77-abcdc833061c"
      },
      "execution_count": 53,
      "outputs": [
        {
          "output_type": "stream",
          "name": "stdout",
          "text": [
            "a is less than 10\n"
          ]
        }
      ]
    },
    {
      "cell_type": "code",
      "source": [
        "x='Ajay'"
      ],
      "metadata": {
        "id": "zCm46IOBnZen"
      },
      "execution_count": 54,
      "outputs": []
    },
    {
      "cell_type": "code",
      "source": [
        "if x[0]=='a':\n",
        "  print(\"yes\")\n",
        "else:\n",
        "  print(\"no\")"
      ],
      "metadata": {
        "colab": {
          "base_uri": "https://localhost:8080/"
        },
        "id": "g0TtBapQn4kd",
        "outputId": "2332592e-648a-406d-ada6-338f62442e18"
      },
      "execution_count": 58,
      "outputs": [
        {
          "output_type": "stream",
          "name": "stdout",
          "text": [
            "no\n"
          ]
        }
      ]
    },
    {
      "cell_type": "code",
      "source": [
        "if x[2]=='a':\n",
        "  print(\"yes\")\n",
        "else:\n",
        "  print(\"no\")\n"
      ],
      "metadata": {
        "colab": {
          "base_uri": "https://localhost:8080/"
        },
        "id": "KGxcnWaeoBrq",
        "outputId": "9f6bf1c7-1f25-4bd5-cd4c-fa0b32a3f92d"
      },
      "execution_count": 60,
      "outputs": [
        {
          "output_type": "stream",
          "name": "stdout",
          "text": [
            "yes\n"
          ]
        }
      ]
    },
    {
      "cell_type": "code",
      "source": [
        "x='Ajay'\n",
        "if x[0].lower()=='a':\n",
        "  print(\"yes\")\n",
        "else:\n",
        "  print(\"no\")"
      ],
      "metadata": {
        "colab": {
          "base_uri": "https://localhost:8080/"
        },
        "id": "u9VmxIbdojAf",
        "outputId": "a0df71aa-ed59-4b7c-e216-98fdce67e2bb"
      },
      "execution_count": 61,
      "outputs": [
        {
          "output_type": "stream",
          "name": "stdout",
          "text": [
            "yes\n"
          ]
        }
      ]
    },
    {
      "cell_type": "code",
      "source": [
        "x='Ajay'\n",
        "if x[0].lower()=='A':\n",
        "  print(\"yes\")\n",
        "else:\n",
        "  print(\"no\")"
      ],
      "metadata": {
        "colab": {
          "base_uri": "https://localhost:8080/"
        },
        "id": "F20RSb2Po-46",
        "outputId": "279f91a9-ac78-493e-8ddf-6b807711a587"
      },
      "execution_count": 62,
      "outputs": [
        {
          "output_type": "stream",
          "name": "stdout",
          "text": [
            "no\n"
          ]
        }
      ]
    },
    {
      "cell_type": "code",
      "source": [
        "x,t,a"
      ],
      "metadata": {
        "colab": {
          "base_uri": "https://localhost:8080/"
        },
        "id": "qNr0h63UpE0K",
        "outputId": "992ca8c1-fc1c-45d3-b645-b82904733028"
      },
      "execution_count": 65,
      "outputs": [
        {
          "output_type": "execute_result",
          "data": {
            "text/plain": [
              "('Ajay', 'MALLAREDDY UNIVERSITY', 1)"
            ]
          },
          "metadata": {},
          "execution_count": 65
        }
      ]
    },
    {
      "cell_type": "code",
      "source": [
        "x='Prabhas'\n"
      ],
      "metadata": {
        "id": "KQTeli67p6W5"
      },
      "execution_count": 66,
      "outputs": []
    },
    {
      "cell_type": "code",
      "source": [
        "if x[2]=='a'or x[2]=='A' or x[2]=='b' or x[2]=='B' or x[2]=='h' or x[2]=='H':\n",
        "  print(\"yes\")\n",
        "else:\n",
        "  print(\"No\")"
      ],
      "metadata": {
        "colab": {
          "base_uri": "https://localhost:8080/"
        },
        "id": "xONg6OxHqQvG",
        "outputId": "128eda7a-c67f-479c-b990-51f2f33dba2e"
      },
      "execution_count": 67,
      "outputs": [
        {
          "output_type": "stream",
          "name": "stdout",
          "text": [
            "yes\n"
          ]
        }
      ]
    },
    {
      "cell_type": "code",
      "source": [
        "if x[0]=='a'or x[0]=='A' or x[0]=='b' or x[0]=='B' or x[2]=='h' or x[0]=='H':\n",
        "  print(\"yes\")\n",
        "else:\n",
        "  print(\"No\")"
      ],
      "metadata": {
        "colab": {
          "base_uri": "https://localhost:8080/"
        },
        "id": "I83X1E-nqsOp",
        "outputId": "48f69797-770f-4a97-97a7-b294712abd4e"
      },
      "execution_count": 68,
      "outputs": [
        {
          "output_type": "stream",
          "name": "stdout",
          "text": [
            "No\n"
          ]
        }
      ]
    },
    {
      "cell_type": "code",
      "source": [],
      "metadata": {
        "id": "EqTYAddGq9gM"
      },
      "execution_count": null,
      "outputs": []
    }
  ]
}